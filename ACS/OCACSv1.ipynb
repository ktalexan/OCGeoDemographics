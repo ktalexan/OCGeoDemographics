{
 "cells": [
  {
   "cell_type": "code",
   "execution_count": 11,
   "metadata": {},
   "outputs": [],
   "source": [
    "import os, arcpy"
   ]
  },
  {
   "cell_type": "code",
   "execution_count": 12,
   "metadata": {},
   "outputs": [],
   "source": [
    "os.chdir(r\"C:\\Users\\ktale\\Box\\KA Personal Folder\\Projects\\Github\\OCGeoDemographics\\ACS\")"
   ]
  },
  {
   "cell_type": "code",
   "execution_count": 13,
   "metadata": {},
   "outputs": [],
   "source": [
    "from OCACSPy import ocacs"
   ]
  },
  {
   "cell_type": "code",
   "execution_count": 14,
   "metadata": {},
   "outputs": [],
   "source": [
    "years = [\"2013\", \"2014\", \"2015\", \"2016\", \"2017\", \"2018\", \"2019\", \"2020\", \"2021\"]"
   ]
  },
  {
   "cell_type": "code",
   "execution_count": 15,
   "metadata": {},
   "outputs": [],
   "source": [
    "basepath = r\"C:\\Users\\ktale\\Box\\KA Personal Folder\\Projects\""
   ]
  },
  {
   "cell_type": "code",
   "execution_count": 16,
   "metadata": {},
   "outputs": [],
   "source": [
    "folderpath = r\"OCGD\\OCACS\""
   ]
  },
  {
   "cell_type": "code",
   "execution_count": 17,
   "metadata": {},
   "outputs": [],
   "source": [
    "prjPathList = [os.path.join(basepath, folderpath, f\"OCACS{year}\") for year in years]"
   ]
  },
  {
   "cell_type": "code",
   "execution_count": 18,
   "metadata": {},
   "outputs": [
    {
     "data": {
      "text/plain": [
       "'C:\\\\Users\\\\ktale\\\\Box\\\\KA Personal Folder\\\\Projects\\\\OCGD\\\\OCACS\\\\OCACS2021'"
      ]
     },
     "execution_count": 18,
     "metadata": {},
     "output_type": "execute_result"
    }
   ],
   "source": [
    "prjPathList[8]"
   ]
  },
  {
   "cell_type": "code",
   "execution_count": 19,
   "metadata": {},
   "outputs": [],
   "source": [
    "acs2021=ocacs(prjPathList[8])"
   ]
  },
  {
   "cell_type": "code",
   "execution_count": 20,
   "metadata": {},
   "outputs": [
    {
     "name": "stdout",
     "output_type": "stream",
     "text": [
      "\n",
      "STEP 1: RESTRUCTURING ORIGINAL GEODATABASES\n",
      "\tDefining a list of new geodatabase geographies...\n",
      "\tCreating new geodatabases for ACS geographies:\n",
      "\t\tCategory: Demographic Characteristics\n",
      "\t\t...Creating geodatabase: OCACS2021D.gdb\n",
      "\t\tCategory: Social Characteristics\n",
      "\t\t...Creating geodatabase: OCACS2021S.gdb\n",
      "\t\tCategory: Economic Characteristics\n",
      "\t\t...Creating geodatabase: OCACS2021E.gdb\n",
      "\t\tCategory: Housing Characteristics\n",
      "\t\t...Creating geodatabase: OCACS2021H.gdb\n",
      "\n",
      "STEP 2: CREATING BASE GEOGRAPHIES IN GEODATABASE DIRECTORY\n",
      "\tSetting up geography for County level:\n",
      "\t\tDefining workspace\n",
      "\t\tSetting up arcpy environment...\n",
      "\t\tSelecting polygon for Orange County...\n",
      "\t\tPlacing resulting polygon into geodatabases...\n",
      "\t\tDeleting temporary layers...\n",
      "\t\tAdding feature class alias: \n",
      "\tSetting up remaining geographices (looping):\n",
      "\n",
      "\t\tProcessing level CS: County Subdivisions\n",
      "\t\t\tNew geodatabase feature class: C:\\Users\\ktale\\Box\\KA Personal Folder\\Projects\\OCGD\\OCACS\\OCACS2021\\Processed\\OCACS2021D.gdb\\OCACS2021COD\n",
      "\t\t\tSetting up arcpy environment...\n",
      "\t\t\tFeature classes to be copied: ACS_2021_5YR_COUSUB_06_CALIFORNIA\n",
      "\t\t\tCreating temporary layer...\n",
      "\t\t\tSelecting features with distance (1,000 feet) from County layer...\n",
      "\t\t\tCopying selected features to the new geodatabase feature class...\n",
      "\t\t\tDeleting temporary layers...\n",
      "\t\t\tAdding feature class alias County Subdivisions\n",
      "\n",
      "\t\tProcessing level PL: Cities/Places\n",
      "\t\t\tNew geodatabase feature class: C:\\Users\\ktale\\Box\\KA Personal Folder\\Projects\\OCGD\\OCACS\\OCACS2021\\Processed\\OCACS2021D.gdb\\OCACS2021COD\n",
      "\t\t\tSetting up arcpy environment...\n",
      "\t\t\tFeature classes to be copied: ACS_2021_5YR_PLACE\n",
      "\t\t\tCreating temporary layer...\n",
      "\t\t\tSelecting features with distance (1,000 feet) from County layer...\n"
     ]
    },
    {
     "ename": "ExecuteError",
     "evalue": "Failed to execute. Parameters are not valid.\nERROR 000840: The value is not a Feature Layer.\nFailed to execute (SelectLayerByLocation).\n",
     "output_type": "error",
     "traceback": [
      "\u001b[1;31m---------------------------------------------------------------------------\u001b[0m",
      "\u001b[1;31mExecuteError\u001b[0m                              Traceback (most recent call last)",
      "Cell \u001b[1;32mIn[20], line 1\u001b[0m\n\u001b[1;32m----> 1\u001b[0m acs2021\u001b[39m.\u001b[39;49mprocessTables()\n",
      "File \u001b[1;32mc:\\Users\\ktale\\Box\\KA Personal Folder\\Projects\\Github\\OCGeoDemographics\\ACS\\OCACSPy.py:227\u001b[0m, in \u001b[0;36mocacs.processTables\u001b[1;34m(self)\u001b[0m\n\u001b[0;32m    225\u001b[0m \u001b[39m# Select features from original that are within a distance (-1000 feet) of the Orange County polygon (all are selected)\u001b[39;00m\n\u001b[0;32m    226\u001b[0m \u001b[39mprint\u001b[39m(\u001b[39m\"\u001b[39m\u001b[39m\\t\u001b[39;00m\u001b[39m\\t\u001b[39;00m\u001b[39m\\t\u001b[39;00m\u001b[39mSelecting features with distance (1,000 feet) from County layer...\u001b[39m\u001b[39m\"\u001b[39m)\n\u001b[1;32m--> 227\u001b[0m lyrOut \u001b[39m=\u001b[39m arcpy\u001b[39m.\u001b[39;49mSelectLayerByLocation_management(\u001b[39m\"\u001b[39;49m\u001b[39mlyrIn\u001b[39;49m\u001b[39m\"\u001b[39;49m, \u001b[39m\"\u001b[39;49m\u001b[39mWITHIN_A_DISTANCE\u001b[39;49m\u001b[39m\"\u001b[39;49m, \u001b[39m\"\u001b[39;49m\u001b[39mlyrCounty\u001b[39;49m\u001b[39m\"\u001b[39;49m, \u001b[39m\"\u001b[39;49m\u001b[39m-1000 Feet\u001b[39;49m\u001b[39m\"\u001b[39;49m, \u001b[39m\"\u001b[39;49m\u001b[39mNEW_SELECTION\u001b[39;49m\u001b[39m\"\u001b[39;49m, \u001b[39m\"\u001b[39;49m\u001b[39mNOT_INVERT\u001b[39;49m\u001b[39m\"\u001b[39;49m)\n\u001b[0;32m    229\u001b[0m \u001b[39m# Place the selected features into the new feature class in the project geodatabase\u001b[39;00m\n\u001b[0;32m    230\u001b[0m \u001b[39mprint\u001b[39m(\u001b[39m\"\u001b[39m\u001b[39m\\t\u001b[39;00m\u001b[39m\\t\u001b[39;00m\u001b[39m\\t\u001b[39;00m\u001b[39mCopying selected features to the new geodatabase feature class...\u001b[39m\u001b[39m\"\u001b[39m)\n",
      "File \u001b[1;32mC:\\Program Files\\ArcGIS\\Pro\\Resources\\ArcPy\\arcpy\\management.py:11447\u001b[0m, in \u001b[0;36mSelectLayerByLocation\u001b[1;34m(in_layer, overlap_type, select_features, search_distance, selection_type, invert_spatial_relationship)\u001b[0m\n\u001b[0;32m  11445\u001b[0m     \u001b[39mreturn\u001b[39;00m retval\n\u001b[0;32m  11446\u001b[0m \u001b[39mexcept\u001b[39;00m \u001b[39mException\u001b[39;00m \u001b[39mas\u001b[39;00m e:\n\u001b[1;32m> 11447\u001b[0m     \u001b[39mraise\u001b[39;00m e\n",
      "File \u001b[1;32mC:\\Program Files\\ArcGIS\\Pro\\Resources\\ArcPy\\arcpy\\management.py:11444\u001b[0m, in \u001b[0;36mSelectLayerByLocation\u001b[1;34m(in_layer, overlap_type, select_features, search_distance, selection_type, invert_spatial_relationship)\u001b[0m\n\u001b[0;32m  11442\u001b[0m \u001b[39mfrom\u001b[39;00m \u001b[39marcpy\u001b[39;00m\u001b[39m.\u001b[39;00m\u001b[39marcobjects\u001b[39;00m\u001b[39m.\u001b[39;00m\u001b[39marcobjectconversion\u001b[39;00m \u001b[39mimport\u001b[39;00m convertArcObjectToPythonObject\n\u001b[0;32m  11443\u001b[0m \u001b[39mtry\u001b[39;00m:\n\u001b[1;32m> 11444\u001b[0m     retval \u001b[39m=\u001b[39m convertArcObjectToPythonObject(gp\u001b[39m.\u001b[39;49mSelectLayerByLocation_management(\u001b[39m*\u001b[39;49mgp_fixargs((in_layer, overlap_type, select_features, search_distance, selection_type, invert_spatial_relationship), \u001b[39mTrue\u001b[39;49;00m)))\n\u001b[0;32m  11445\u001b[0m     \u001b[39mreturn\u001b[39;00m retval\n\u001b[0;32m  11446\u001b[0m \u001b[39mexcept\u001b[39;00m \u001b[39mException\u001b[39;00m \u001b[39mas\u001b[39;00m e:\n",
      "File \u001b[1;32mC:\\Program Files\\ArcGIS\\Pro\\Resources\\ArcPy\\arcpy\\geoprocessing\\_base.py:512\u001b[0m, in \u001b[0;36mGeoprocessor.__getattr__.<locals>.<lambda>\u001b[1;34m(*args)\u001b[0m\n\u001b[0;32m    510\u001b[0m val \u001b[39m=\u001b[39m \u001b[39mgetattr\u001b[39m(\u001b[39mself\u001b[39m\u001b[39m.\u001b[39m_gp, attr)\n\u001b[0;32m    511\u001b[0m \u001b[39mif\u001b[39;00m callable(val):\n\u001b[1;32m--> 512\u001b[0m     \u001b[39mreturn\u001b[39;00m \u001b[39mlambda\u001b[39;00m \u001b[39m*\u001b[39margs: val(\u001b[39m*\u001b[39;49mgp_fixargs(args, \u001b[39mTrue\u001b[39;49;00m))\n\u001b[0;32m    513\u001b[0m \u001b[39melse\u001b[39;00m:\n\u001b[0;32m    514\u001b[0m     \u001b[39mreturn\u001b[39;00m convertArcObjectToPythonObject(val)\n",
      "\u001b[1;31mExecuteError\u001b[0m: Failed to execute. Parameters are not valid.\nERROR 000840: The value is not a Feature Layer.\nFailed to execute (SelectLayerByLocation).\n"
     ]
    }
   ],
   "source": [
    "acs2021.processTables()"
   ]
  },
  {
   "cell_type": "code",
   "execution_count": null,
   "metadata": {},
   "outputs": [],
   "source": []
  }
 ],
 "metadata": {
  "kernelspec": {
   "display_name": "agpenv",
   "language": "python",
   "name": "python3"
  },
  "language_info": {
   "codemirror_mode": {
    "name": "ipython",
    "version": 3
   },
   "file_extension": ".py",
   "mimetype": "text/x-python",
   "name": "python",
   "nbconvert_exporter": "python",
   "pygments_lexer": "ipython3",
   "version": "3.9.16"
  },
  "orig_nbformat": 4
 },
 "nbformat": 4,
 "nbformat_minor": 2
}
